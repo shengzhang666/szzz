{
 "cells": [
  {
   "cell_type": "markdown",
   "id": "5af65147-1644-464c-b61d-a4adafcf52b6",
   "metadata": {
    "tags": []
   },
   "source": [
    "# My Jupyter Notebook on IBM Watson Studio"
   ]
  },
  {
   "cell_type": "markdown",
   "id": "51fdd76e-4c63-4803-bf6c-c34ea66db019",
   "metadata": {},
   "source": [
    "__Sheng Zhang__"
   ]
  },
  {
   "cell_type": "markdown",
   "id": "321da8ea-3d27-40ad-8307-aa7f567a6b6e",
   "metadata": {},
   "source": [
    "_I am interested in data science because i want to learn it_"
   ]
  },
  {
   "cell_type": "markdown",
   "id": "709c3424-9360-4227-a516-df69ca87c664",
   "metadata": {},
   "source": [
    "### do 1+1"
   ]
  },
  {
   "cell_type": "code",
   "execution_count": 3,
   "id": "23b8adcf-6837-43dc-8fad-fadd9d0290f8",
   "metadata": {},
   "outputs": [
    {
     "data": {
      "text/plain": [
       "2"
      ]
     },
     "execution_count": 3,
     "metadata": {},
     "output_type": "execute_result"
    }
   ],
   "source": [
    "1+1"
   ]
  },
  {
   "cell_type": "markdown",
   "id": "aaff9d67-7d76-4109-9ca4-c9996fcb7e30",
   "metadata": {},
   "source": [
    "1. first ordered list item\n",
    "2. another one\n",
    "- one \n",
    "- another one\n",
    "+ one \n",
    "+ another one"
   ]
  },
  {
   "cell_type": "code",
   "execution_count": null,
   "id": "3dfa5b28-eae2-47e7-9b0d-43c3bec6c77e",
   "metadata": {},
   "outputs": [],
   "source": []
  }
 ],
 "metadata": {
  "kernelspec": {
   "display_name": "Python 3 (ipykernel)",
   "language": "python",
   "name": "python3"
  },
  "language_info": {
   "codemirror_mode": {
    "name": "ipython",
    "version": 3
   },
   "file_extension": ".py",
   "mimetype": "text/x-python",
   "name": "python",
   "nbconvert_exporter": "python",
   "pygments_lexer": "ipython3",
   "version": "3.9.1"
  }
 },
 "nbformat": 4,
 "nbformat_minor": 5
}
